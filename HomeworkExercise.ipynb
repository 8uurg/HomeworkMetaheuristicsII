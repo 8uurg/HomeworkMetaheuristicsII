{
 "cells": [
  {
   "cell_type": "markdown",
   "metadata": {},
   "source": [
    "# Metaheuristics: Local Search\n",
    "\n",
    "In order to run the exercise code as is, the dependencies in `requirements.txt` have to be installed.\n",
    "\n",
    "(If you are using Binder these should be installed automatically.)"
   ]
  },
  {
   "cell_type": "markdown",
   "metadata": {},
   "source": [
    "--------"
   ]
  },
  {
   "cell_type": "code",
   "execution_count": null,
   "metadata": {},
   "outputs": [],
   "source": [
    "import utils\n",
    "import importlib\n",
    "importlib.reload(utils)"
   ]
  },
  {
   "cell_type": "code",
   "execution_count": null,
   "metadata": {},
   "outputs": [],
   "source": [
    "# Generate a random problem.\n",
    "n, dist = utils.generate_euclid_tsp_problem(10, 0, 100)"
   ]
  },
  {
   "cell_type": "code",
   "execution_count": null,
   "metadata": {},
   "outputs": [],
   "source": [
    "# Use the supplied problem.\n",
    "n, dist = utils.load_tsp_problem()"
   ]
  },
  {
   "cell_type": "markdown",
   "metadata": {},
   "source": [
    "## Excercise 1 and 2: Initial Value\n",
    "In this folder a Travelling Salesman Problem is given. This problem has distances calculated by Euclidian Distance.\n",
    "The objective function is the usual function for the travelling salesman problem.\n",
    "\n",
    "An initial implementation that is random is already given."
   ]
  },
  {
   "cell_type": "code",
   "execution_count": null,
   "metadata": {},
   "outputs": [],
   "source": [
    "initial = utils.random_initial_value(n, dist)\n",
    "\n",
    "print(initial)\n",
    "print(utils.objective_tsp(initial, dist))"
   ]
  },
  {
   "cell_type": "markdown",
   "metadata": {},
   "source": [
    "**Implement another method for calculating an initial value.**\n",
    "\n",
    "**What did you implement?** \n",
    "\n",
    "**Did it work better?**"
   ]
  },
  {
   "cell_type": "code",
   "execution_count": null,
   "metadata": {},
   "outputs": [],
   "source": [
    "def my_initial_value(n, dist):\n",
    "    # Edit the contents of this function.\n",
    "    return list(range(n))\n",
    "\n",
    "initial = my_initial_value(n, dist)\n",
    "\n",
    "print(initial)\n",
    "print(utils.objective_tsp(initial, dist))"
   ]
  },
  {
   "cell_type": "markdown",
   "metadata": {},
   "source": [
    "**Answer:**"
   ]
  },
  {
   "cell_type": "markdown",
   "metadata": {},
   "source": [
    "\n",
    "-*Double Click this to edit if not editable*-\n"
   ]
  },
  {
   "cell_type": "markdown",
   "metadata": {},
   "source": [
    "*Tip: The initial implementation is random, you may want to run it a few times.*\n",
    "\n",
    "-----------"
   ]
  },
  {
   "cell_type": "markdown",
   "metadata": {},
   "source": [
    "## Exercise 3: Neighborhood\n",
    "We cannot run a simple local search yet: no neighbourhood has been defined.\n",
    "\n",
    "**Implement a neighbourhood generator.**\n",
    "\n",
    "**How big is the neighbourhood you defined relative to the input size (in $O$ notation)? **"
   ]
  },
  {
   "cell_type": "code",
   "execution_count": null,
   "metadata": {},
   "outputs": [],
   "source": [
    "def neighbourhood(sequence, objective):\n",
    "    # Neighbourhood that only consists of itself.\n",
    "    # You'll have to change this if you want a better solution!\n",
    "    yield sequence, objective"
   ]
  },
  {
   "cell_type": "markdown",
   "metadata": {},
   "source": [
    "**Answer:**"
   ]
  },
  {
   "cell_type": "markdown",
   "metadata": {},
   "source": [
    "\n",
    "-*Double Click this to edit if not editable*-\n"
   ]
  },
  {
   "cell_type": "markdown",
   "metadata": {},
   "source": [
    "**Hint:** A neighborhood usually does not have to completely recalculate the objective function *Can you do this in your case?*\n",
    "\n",
    "**Hint:** A neighbourhood that moves the first item elsewhere is $O(n)$.\n",
    "\n",
    "**Note:** `yield` is a keyword used in python for [generators](https://wiki.python.org/moin/Generators). You can yield multiple times: each time you `yield` is a *solution* in the neighborhood!"
   ]
  },
  {
   "cell_type": "markdown",
   "metadata": {},
   "source": [
    "------------"
   ]
  },
  {
   "cell_type": "markdown",
   "metadata": {},
   "source": [
    "## Exercise 4: Local Search\n",
    "We now have all the ingredients required to perform a plain local search.\n",
    "\n",
    "**How well does your implementation perform in terms of objective value? And in terms of time?**"
   ]
  },
  {
   "cell_type": "code",
   "execution_count": null,
   "metadata": {},
   "outputs": [],
   "source": [
    "c_solution = initial\n",
    "c_objective = utils.objective_tsp(c_solution, dist)\n",
    "changed = True\n",
    "\n",
    "while changed:\n",
    "    changed = False\n",
    "    for neighbour_sequence, neighbour_objective in neighbourhood(c_solution, c_objective):\n",
    "        if(neighbour_objective > c_objective):\n",
    "            c_solution = neighbour_sequence\n",
    "            c_objective = neighbour_objective\n",
    "            changed = True\n",
    "\n",
    "print(c_solution)\n",
    "print(c_objective)"
   ]
  },
  {
   "cell_type": "markdown",
   "metadata": {},
   "source": [
    "**Answer:**"
   ]
  },
  {
   "cell_type": "markdown",
   "metadata": {},
   "source": [
    "\n",
    "-*Double Click this to edit if not editable*-\n"
   ]
  },
  {
   "cell_type": "markdown",
   "metadata": {},
   "source": [
    "--------"
   ]
  },
  {
   "cell_type": "code",
   "execution_count": null,
   "metadata": {},
   "outputs": [],
   "source": []
  }
 ],
 "metadata": {
  "kernelspec": {
   "display_name": "Python 3",
   "language": "python",
   "name": "python3"
  },
  "language_info": {
   "codemirror_mode": {
    "name": "ipython",
    "version": 3
   },
   "file_extension": ".py",
   "mimetype": "text/x-python",
   "name": "python",
   "nbconvert_exporter": "python",
   "pygments_lexer": "ipython3",
   "version": "3.5.2"
  }
 },
 "nbformat": 4,
 "nbformat_minor": 2
}
