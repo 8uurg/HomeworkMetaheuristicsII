{
 "cells": [
  {
   "cell_type": "markdown",
   "metadata": {},
   "source": [
    "# Metaheuristics: Local Search\n",
    "\n",
    "In order to run the exercise code as is, the dependencies in `requirements.txt` have to be installed.\n",
    "\n",
    "(If you are using Binder these should be installed automatically.)"
   ]
  },
  {
   "cell_type": "markdown",
   "metadata": {},
   "source": [
    "## Excercise 1\n",
    "In this folder a Travelling Salesman Problem is given. This problem has distances calculated by Euclidian Distance.\n",
    "\n",
    "Currently a random initial value is used.\n",
    "\n",
    "**Implement another method for calculating an initial value. What did you implement? Did it work better?**"
   ]
  },
  {
   "cell_type": "code",
   "execution_count": null,
   "metadata": {},
   "outputs": [],
   "source": [
    "import utils\n",
    "\n",
    "# TODO: Actually write some code here."
   ]
  }
 ],
 "metadata": {
  "kernelspec": {
   "display_name": "Python 3",
   "language": "python",
   "name": "python3"
  },
  "language_info": {
   "codemirror_mode": {
    "name": "ipython",
    "version": 3
   },
   "file_extension": ".py",
   "mimetype": "text/x-python",
   "name": "python",
   "nbconvert_exporter": "python",
   "pygments_lexer": "ipython3",
   "version": "3.5.2"
  }
 },
 "nbformat": 4,
 "nbformat_minor": 2
}
