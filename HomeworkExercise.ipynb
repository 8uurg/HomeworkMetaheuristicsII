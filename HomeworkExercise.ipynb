{
 "cells": [
  {
   "cell_type": "markdown",
   "metadata": {},
   "source": [
    "We recommend using [Binder](http://mybinder.org/) to make this assignment, however if you are running this locally, make sure the dependencies in `requirements.txt` are installed.\n",
    "\n",
    "\n",
    "To modify the code snippets or insert your answers, double click on the cell.\n",
    "\n",
    "For example: double click anywhere in this explanation to modify this text!\n",
    "\n",
    "--------"
   ]
  },
  {
   "cell_type": "markdown",
   "metadata": {},
   "source": [
    "# Metaheuristics: Local Search\n",
    "\n",
    "In this homework assignment you are going to step-by-step implement a local search strategy. The local search strategy is going to be used to solve Euclidean Travelling Salesperson instances. \n",
    "\n",
    "To use local search the following components are needed:\n",
    "\n",
    "0. The solution encoding;\n",
    "1. A way to create an initial solution;\n",
    "2. The neighbourhood definition, i.e. the moves that can be made;\n",
    "3. An objective function;\n",
    "4. A search strategy.\n",
    "\n",
    "In this assignment, the encoding and the objective function are given. Solutions are encoded as an ordered list of city indeces and the objective function is simply the sum of the distances between the cities.\n"
   ]
  },
  {
   "cell_type": "markdown",
   "metadata": {},
   "source": [
    "**The following cell is boilerplate code, which you have to run before continuing!**"
   ]
  },
  {
   "cell_type": "code",
   "execution_count": null,
   "metadata": {},
   "outputs": [],
   "source": [
    "import utils\n",
    "import importlib\n",
    "importlib.reload(utils)"
   ]
  },
  {
   "cell_type": "markdown",
   "metadata": {},
   "source": [
    "You can choose to use either a random TSP instance, or a supplied TSP instance. If you choose the supplied instance, we can give you an indication of how well your algorithm works!"
   ]
  },
  {
   "cell_type": "code",
   "execution_count": null,
   "metadata": {},
   "outputs": [],
   "source": [
    "# Run this to generate a random problem.\n",
    "n, distances = utils.generate_euclid_tsp_problem(10, 0, 100)"
   ]
  },
  {
   "cell_type": "code",
   "execution_count": null,
   "metadata": {},
   "outputs": [],
   "source": [
    "# Run this to use the supplied problem.\n",
    "n, distances = utils.load_tsp_problem()"
   ]
  },
  {
   "cell_type": "markdown",
   "metadata": {},
   "source": [
    "--------\n",
    "\n",
    "## Exercise 1: Generating the Initial Value\n",
    "\n",
    "As described in the introduction, an initial value is required to run the local search algorithm. In this exercise you are going to implement a function that creates it.\n",
    "\n",
    "\n",
    "Below an initial implementation is given that creates random solutions. The function `utils.objective_tsp(your_solution, distances)` calculates the objective value of `your_solution`. "
   ]
  },
  {
   "cell_type": "code",
   "execution_count": null,
   "metadata": {},
   "outputs": [],
   "source": [
    "initial = utils.random_initial_value(n, distances)\n",
    "\n",
    "print(initial)\n",
    "print(utils.objective_tsp(initial, distances))"
   ]
  },
  {
   "cell_type": "markdown",
   "metadata": {},
   "source": [
    "**a. Implement another method for generating an initial value.**"
   ]
  },
  {
   "cell_type": "code",
   "execution_count": null,
   "metadata": {},
   "outputs": [],
   "source": [
    "def my_initial_value(n, distances_matrix):\n",
    "    # Edit the contents of this function.\n",
    "    return list(range(n))\n",
    "\n",
    "initial = my_initial_value(n, distances)\n",
    "\n",
    "print(initial)\n",
    "print(utils.objective_tsp(initial, distances))"
   ]
  },
  {
   "cell_type": "markdown",
   "metadata": {},
   "source": [
    "**b. What did you implement?** "
   ]
  },
  {
   "cell_type": "markdown",
   "metadata": {},
   "source": [
    "_- Double click here to insert your answer -_"
   ]
  },
  {
   "cell_type": "markdown",
   "metadata": {},
   "source": [
    "**c. Does it (on average) work better than the random initial value?**"
   ]
  },
  {
   "cell_type": "markdown",
   "metadata": {},
   "source": [
    "_- Double click here to insert your answer -_"
   ]
  },
  {
   "cell_type": "markdown",
   "metadata": {},
   "source": [
    "---\n",
    "## Exercise 2: Neighborhood\n",
    "\n",
    "Now that we have the initial solution, we need to be able to move to better solutions. To achieve this, we need to define the neighbourhood.\n",
    "\n",
    "**a. Implement a neighbourhood generator.**\n",
    "\n",
    "**Hint:** A neighborhood usually does not have to completely recalculate the objective function *Can you do this in your case?*\n",
    "\n",
    "**Note:** `yield` is a keyword used in python for [generators](https://wiki.python.org/moin/Generators). You can yield multiple times: each time you `yield` is a *solution* in the neighborhood!\n"
   ]
  },
  {
   "cell_type": "code",
   "execution_count": null,
   "metadata": {},
   "outputs": [],
   "source": [
    "def neighbourhood(current_solution, objective_value):\n",
    "    \"\"\"\n",
    "    A generator that defines the neighbourhood of `current_solution`. \n",
    "    \n",
    "    Returns:\n",
    "        A generator for tuples (solution, objective_value)\n",
    "    \"\"\"\n",
    "    \n",
    "    # The current implementation just returns the current solution.\n",
    "    # Hint: The objective_value can usually be recalculated in less than O(n) time, \n",
    "    # however you could just rerun the utils.objective_tsp (O(n)) function on each solution\n",
    "    # in your new neighbourhood.\n",
    "    yield sequence, objective_value"
   ]
  },
  {
   "cell_type": "markdown",
   "metadata": {},
   "source": [
    "**b. How big is the neighbourhood you defined relative to the input size (in $O$ notation)? **"
   ]
  },
  {
   "cell_type": "markdown",
   "metadata": {},
   "source": [
    "**Note:** A neighbourhood that moves the first item to a random elsewhere is $O(n)$."
   ]
  },
  {
   "cell_type": "markdown",
   "metadata": {},
   "source": [
    "_- Double click here to insert your answer -_"
   ]
  },
  {
   "cell_type": "markdown",
   "metadata": {},
   "source": [
    "---\n",
    "## Exercise 4: Local Search\n",
    "We now have all the ingredients required to perform a plain local search.\n",
    "\n",
    "**How well does your implementation perform in terms of objective value? And in terms of time?**"
   ]
  },
  {
   "cell_type": "code",
   "execution_count": null,
   "metadata": {},
   "outputs": [],
   "source": [
    "c_solution = initial\n",
    "c_objective = utils.objective_tsp(c_solution, dist)\n",
    "changed = True\n",
    "\n",
    "while changed:\n",
    "    changed = False\n",
    "    for neighbour_sequence, neighbour_objective in neighbourhood(c_solution, c_objective):\n",
    "        if(neighbour_objective > c_objective):\n",
    "            c_solution = neighbour_sequence\n",
    "            c_objective = neighbour_objective\n",
    "            changed = True\n",
    "\n",
    "print(c_solution)\n",
    "print(c_objective)"
   ]
  },
  {
   "cell_type": "markdown",
   "metadata": {},
   "source": [
    "**Answer:**"
   ]
  },
  {
   "cell_type": "markdown",
   "metadata": {},
   "source": [
    "\n",
    "-*Double Click this to edit if not editable*-\n"
   ]
  },
  {
   "cell_type": "markdown",
   "metadata": {},
   "source": [
    "--------"
   ]
  },
  {
   "cell_type": "code",
   "execution_count": null,
   "metadata": {},
   "outputs": [],
   "source": []
  }
 ],
 "metadata": {
  "kernelspec": {
   "display_name": "Python 3",
   "language": "python",
   "name": "python3"
  },
  "language_info": {
   "codemirror_mode": {
    "name": "ipython",
    "version": 3
   },
   "file_extension": ".py",
   "mimetype": "text/x-python",
   "name": "python",
   "nbconvert_exporter": "python",
   "pygments_lexer": "ipython3",
   "version": "3.6.4"
  }
 },
 "nbformat": 4,
 "nbformat_minor": 2
}
