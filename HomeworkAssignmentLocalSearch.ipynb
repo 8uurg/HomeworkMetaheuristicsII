{
 "cells": [
  {
   "cell_type": "markdown",
   "metadata": {},
   "source": [
    "We recommend using [Binder](http://mybinder.org/) to make this assignment, however if you are running this locally, make sure the dependencies in `requirements.txt` are installed.\n",
    "\n",
    "\n",
    "To modify the code snippets or insert your answers, double click on the cell.\n",
    "\n",
    "For example: double click anywhere in this explanation to modify this text!\n",
    "\n",
    "Scope is shared among all cells, so variables and function defined at the start of the assignment are available at the end of the assignment.\n",
    "\n",
    "Keep in mind that lists are pass by reference in Python. You can copy them by `copy = original[:]`\n",
    "\n",
    "We would like to thank [Gerhard Reinelt](http://comopt.ifi.uni-heidelberg.de/software/TSPLIB95/) for providing the TSP instances which can be found [here](http://comopt.ifi.uni-heidelberg.de/software/TSPLIB95/tsp/).\n",
    "\n",
    "--------"
   ]
  },
  {
   "cell_type": "markdown",
   "metadata": {},
   "source": [
    "# Metaheuristics: Local Search\n",
    "\n",
    "In this homework assignment you are going to step-by-step implement a local search strategy. \n",
    "At the end of the assignment you will have your own iterated local search implementation! \n",
    "The local search strategy is going to be used to solve Euclidean Travelling Salesperson instances. \n",
    "For this assignment you can get a total of 30 points divided over 4 exercises.\n",
    "\n",
    "To use local search the following components are needed:\n",
    "\n",
    "0. The solution encoding;\n",
    "1. A way to create an initial solution;\n",
    "2. The neighbourhood definition, i.e. the moves that can be made;\n",
    "3. An objective function;\n",
    "4. A search strategy.\n",
    "\n",
    "In this assignment, the encoding and the objective function are given. Solutions are encoded as an ordered list of city indeces and the objective function is simply the sum of the distances between the cities.\n"
   ]
  },
  {
   "cell_type": "markdown",
   "metadata": {},
   "source": [
    "**The following cell is boilerplate code, which you have to run before continuing!**"
   ]
  },
  {
   "cell_type": "code",
   "execution_count": null,
   "metadata": {},
   "outputs": [],
   "source": [
    "import utils\n",
    "import importlib\n",
    "import math\n",
    "import random\n",
    "\n",
    "importlib.reload(utils)"
   ]
  },
  {
   "cell_type": "markdown",
   "metadata": {},
   "source": [
    "---\n",
    "You can choose to use either a random TSP instance, or a supplied TSP instance. If you choose the supplied instance, we also give you the optimal value, so you can use it to see how well your solution works."
   ]
  },
  {
   "cell_type": "code",
   "execution_count": null,
   "metadata": {},
   "outputs": [],
   "source": [
    "# Run this to generate a random problem.\n",
    "n, distances = utils.generate_euclid_tsp_problem(10, 0, 100)"
   ]
  },
  {
   "cell_type": "code",
   "execution_count": null,
   "metadata": {},
   "outputs": [],
   "source": [
    "# Run this to use the supplied problem.\n",
    "n, distances, optimal_obj_value = utils.load_tsp_problem()"
   ]
  },
  {
   "cell_type": "markdown",
   "metadata": {},
   "source": [
    "--------\n",
    "\n",
    "## Exercise 1: Generating the Initial Value\n",
    "**(10 points)**\n",
    "\n",
    "As described in the introduction, an initial value is required to run the local search algorithm. In this exercise you are going to implement a function that creates it.\n",
    "\n",
    "\n",
    "Below an initial implementation is given that creates random solutions. The function `utils.objective_tsp(your_solution, distances)` calculates the objective value of `your_solution`. "
   ]
  },
  {
   "cell_type": "code",
   "execution_count": null,
   "metadata": {},
   "outputs": [],
   "source": [
    "r_initial = utils.random_initial_value(n, distances)\n",
    "\n",
    "print(r_initial)\n",
    "print(utils.objective_tsp(r_initial, distances))"
   ]
  },
  {
   "cell_type": "markdown",
   "metadata": {},
   "source": [
    "**a. Implement another method for generating an initial value. (8 points)**"
   ]
  },
  {
   "cell_type": "code",
   "execution_count": null,
   "metadata": {},
   "outputs": [],
   "source": [
    "def my_initial_value(n, distances_matrix):\n",
    "    \"\"\"\n",
    "    Generates the initial value.\n",
    "    \n",
    "    Returns:\n",
    "        An ordered list of city ids.\n",
    "    \"\"\"\n",
    "    \n",
    "    # Edit the contents of this function.\n",
    "    return utils.random_initial_value(n, distances_matrix)\n",
    "\n",
    "\n",
    "initial = my_initial_value(n, distances)\n",
    "\n",
    "print(f\"Initial value: {initial}\")\n",
    "print(f\"With objective value: {utils.objective_tsp(initial, distances)}\")"
   ]
  },
  {
   "cell_type": "markdown",
   "metadata": {},
   "source": [
    "**b. What did you implement? (1 point)** "
   ]
  },
  {
   "cell_type": "markdown",
   "metadata": {},
   "source": [
    "_- Double click here to insert your answer -_"
   ]
  },
  {
   "cell_type": "markdown",
   "metadata": {},
   "source": [
    "**c. Does it (on average) work better than the random initial value? (1 point)**"
   ]
  },
  {
   "cell_type": "markdown",
   "metadata": {},
   "source": [
    "_- Double click here to insert your answer -_"
   ]
  },
  {
   "cell_type": "markdown",
   "metadata": {},
   "source": [
    "---\n",
    "## Exercise 2: Neighborhood\n",
    "**(10 points)**\n",
    "\n",
    "Now that we have the initial solution, we need to be able to move to better solutions. To achieve this, we need to define the neighbourhood.\n",
    "\n",
    "**a. Implement a neighbourhood generator. (8 points)**\n",
    "\n",
    "**Hint:** A neighborhood usually does not have to completely recalculate the objective function *Can you do this in your case?*\n",
    "\n",
    "**Note:** `yield` is a keyword used in python for [generators](https://wiki.python.org/moin/Generators). You can yield multiple times: each time you `yield` is a *solution* in the neighborhood!\n"
   ]
  },
  {
   "cell_type": "code",
   "execution_count": null,
   "metadata": {},
   "outputs": [],
   "source": [
    "def neighbourhood(current_solution, objective_value):\n",
    "    \"\"\"\n",
    "    A generator that defines the neighbourhood of `current_solution`. \n",
    "    \n",
    "    Returns:\n",
    "        A generator for tuples (solution, objective_value)\n",
    "    \"\"\"\n",
    "    \n",
    "    # The current implementation just returns the current solution.\n",
    "    # Hint: The objective_value can usually be recalculated in less than O(n) time, \n",
    "    # however you could just rerun the utils.objective_tsp (O(n)) function on each solution\n",
    "    # in your new neighbourhood.\n",
    "\n",
    "    yield current_solution, objective_value\n",
    "\n",
    "print(f\"The original solution {initial} has neighboorhood:\")\n",
    "for j in neighbourhood(initial, utils.objective_tsp(initial, distances)):\n",
    "    print(f\"\\t{j[0]}\\t with objective value: {j[1]}\")\n"
   ]
  },
  {
   "cell_type": "markdown",
   "metadata": {},
   "source": [
    "**b. How big is the neighbourhood you defined relative to the input size (in $O$ notation)? The input size is defined as the number of cities in this case. (2 points)**"
   ]
  },
  {
   "cell_type": "markdown",
   "metadata": {},
   "source": [
    "_- Double click here to insert your answer -_"
   ]
  },
  {
   "cell_type": "markdown",
   "metadata": {},
   "source": [
    "---\n",
    "## Exercise 3: Local Search\n",
    "**(5 points)**\n",
    "\n",
    "We now have all the ingredients required to perform a plain local search. We have already implemented it for you, you just have to run it."
   ]
  },
  {
   "cell_type": "code",
   "execution_count": null,
   "metadata": {},
   "outputs": [],
   "source": [
    "def local_search(current_solution, distances):\n",
    "    \"\"\"\n",
    "    Performs a local search using the current solution as a starting point.\n",
    "    \n",
    "    Returns:\n",
    "       A (solution, objective_value)\n",
    "    \"\"\"\n",
    "    \n",
    "    c_solution = current_solution\n",
    "    c_objective = utils.objective_tsp(c_solution, distances)\n",
    "    changed = True\n",
    "\n",
    "    while changed:\n",
    "        changed = False\n",
    "        for neighbour_sequence, neighbour_objective in neighbourhood(c_solution, c_objective):\n",
    "            if(neighbour_objective < c_objective):\n",
    "                c_solution = neighbour_sequence\n",
    "                c_objective = neighbour_objective\n",
    "                changed = True\n",
    "    \n",
    "    return c_solution, c_objective\n",
    "\n",
    "initial = my_initial_value(n, distances)\n",
    "solution, objective = local_search(initial, distances)\n",
    "print(f\"Your local search solution is: {solution}\")\n",
    "print(f\"With objective value: {obj}\")"
   ]
  },
  {
   "cell_type": "markdown",
   "metadata": {},
   "source": [
    "**How well does your implementation perform in terms of objective value and why? Use the given instance, instead of a random instance, to answer this question. (3 points)**"
   ]
  },
  {
   "cell_type": "markdown",
   "metadata": {},
   "source": [
    "_- Double click here to insert your answer -_"
   ]
  },
  {
   "cell_type": "markdown",
   "metadata": {},
   "source": [
    "**What is the main disadvantage of Local Search? (2 point)**"
   ]
  },
  {
   "cell_type": "markdown",
   "metadata": {},
   "source": [
    "_- Double click here to insert your answer -_"
   ]
  },
  {
   "cell_type": "markdown",
   "metadata": {},
   "source": [
    "---\n",
    "\n",
    "# Exercise 4: Iterated Local Search \n",
    "**(5 points)**\n",
    "\n",
    "Now that we have our local search sub procedure, you are going to implement a simple iterated local search.\n",
    "\n",
    "**Implement a mutation function, and choose/implement a stopping criterion. (4 points)**"
   ]
  },
  {
   "cell_type": "code",
   "execution_count": null,
   "metadata": {},
   "outputs": [],
   "source": [
    "def mutate(solution):\n",
    "    \"\"\"\n",
    "    Mutates the given solution. \n",
    "    \n",
    "    Returns:\n",
    "        A mutated solution.\n",
    "    \"\"\"\n",
    "    \n",
    "    mutated = solution[:]\n",
    "    # Mutate the solution!\n",
    "    return mutated\n",
    "\n",
    "def iterated_local_search(n, distances):\n",
    "    \"\"\"\n",
    "    Performs an iterated local search to find a solution for the given TSP instance.\n",
    "    \n",
    "    Returns:\n",
    "        An optimized solution for the TSP instance.\n",
    "    \"\"\"\n",
    "    \n",
    "    initial_value = my_initial_value(n, distances)\n",
    "    current_solution, c_obj = local_search(initial_value, distances)\n",
    "    \n",
    "    while /* YOUR STOPPING CRITERION */:\n",
    "        mutated_solution = mutate(current_solution)\n",
    "        proposed_solution, p_obj = local_search(mutated_solution, distances)\n",
    "        if p_obj < c_obj:\n",
    "            current_solution = proposed_solution\n",
    "            c_obj = p_obj                \n",
    "    \n",
    "    return current_solution, c_obj\n",
    "\n",
    "solution, obj = iterated_local_search(n, distances)\n",
    "print(f\"Your final solution is: {solution}\")\n",
    "print(f\"With objective value: {obj}\")"
   ]
  },
  {
   "cell_type": "markdown",
   "metadata": {},
   "source": [
    "**Describe what you implemented. (1 point)**"
   ]
  },
  {
   "cell_type": "markdown",
   "metadata": {},
   "source": [
    "_- Double click here to insert your answer -_"
   ]
  }
 ],
 "metadata": {
  "kernelspec": {
   "display_name": "Python 3",
   "language": "python",
   "name": "python3"
  },
  "language_info": {
   "codemirror_mode": {
    "name": "ipython",
    "version": 3
   },
   "file_extension": ".py",
   "mimetype": "text/x-python",
   "name": "python",
   "nbconvert_exporter": "python",
   "pygments_lexer": "ipython3",
   "version": "3.6.4"
  }
 },
 "nbformat": 4,
 "nbformat_minor": 2
}
